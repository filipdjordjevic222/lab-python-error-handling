{
 "cells": [
  {
   "cell_type": "markdown",
   "id": "25d7736c-ba17-4aff-b6bb-66eba20fbf4e",
   "metadata": {
    "editable": true,
    "slideshow": {
     "slide_type": ""
    },
    "tags": []
   },
   "source": [
    "# Lab | Error Handling"
   ]
  },
  {
   "cell_type": "markdown",
   "id": "bc99b386-7508-47a0-bcdb-d969deaf6c8b",
   "metadata": {
    "editable": true,
    "slideshow": {
     "slide_type": ""
    },
    "tags": []
   },
   "source": [
    "## Exercise: Error Handling for Managing Customer Orders\n",
    "\n",
    "The implementation of your code for managing customer orders assumes that the user will always enter a valid input. \n",
    "\n",
    "For example, we could modify the `initialize_inventory` function to include error handling.\n",
    "   - If the user enters an invalid quantity (e.g., a negative value or a non-numeric value), display an error message and ask them to re-enter the quantity for that product.\n",
    "   - Use a try-except block to handle the error and continue prompting the user until a valid quantity is entered.\n",
    "\n",
    "```python\n",
    "# Step 1: Define the function for initializing the inventory with error handling\n",
    "def initialize_inventory(products):\n",
    "    inventory = {}\n",
    "    for product in products:\n",
    "        valid_quantity = False\n",
    "        while not valid_quantity:\n",
    "            try:\n",
    "                quantity = int(input(f\"Enter the quantity of {product}s available: \"))\n",
    "                if quantity < 0:\n",
    "                    raise ValueError(\"Invalid quantity! Please enter a non-negative value.\")\n",
    "                valid_quantity = True\n",
    "            except ValueError as error:\n",
    "                print(f\"Error: {error}\")\n",
    "        inventory[product] = quantity\n",
    "    return inventory\n",
    "\n",
    "# Or, in another way:\n",
    "\n",
    "def initialize_inventory(products):\n",
    "    inventory = {}\n",
    "    for product in products:\n",
    "        valid_input = False\n",
    "        while not valid_input:\n",
    "            try:\n",
    "                quantity = int(input(f\"Enter the quantity of {product}s available: \"))\n",
    "                if quantity >= 0:\n",
    "                    inventory[product] = quantity\n",
    "                    valid_input = True\n",
    "                else:\n",
    "                    print(\"Quantity cannot be negative. Please enter a valid quantity.\")\n",
    "            except ValueError:\n",
    "                print(\"Invalid input. Please enter a valid quantity.\")\n",
    "    return inventory\n",
    "```\n",
    "\n",
    "Let's enhance your code by implementing error handling to handle invalid inputs.\n",
    "\n",
    "Follow the steps below to complete the exercise:\n",
    "\n",
    "2. Modify the `calculate_total_price` function to include error handling.\n",
    "   - If the user enters an invalid price (e.g., a negative value or a non-numeric value), display an error message and ask them to re-enter the price for that product.\n",
    "   - Use a try-except block to handle the error and continue prompting the user until a valid price is entered.\n",
    "\n",
    "3. Modify the `get_customer_orders` function to include error handling.\n",
    "   - If the user enters an invalid number of orders (e.g., a negative value or a non-numeric value), display an error message and ask them to re-enter the number of orders.\n",
    "   - If the user enters an invalid product name (e.g., a product name that is not in the inventory), or that doesn't have stock available, display an error message and ask them to re-enter the product name. *Hint: you will need to pass inventory as a parameter*\n",
    "   - Use a try-except block to handle the error and continue prompting the user until a valid product name is entered.\n",
    "\n",
    "4. Test your code by running the program and deliberately entering invalid quantities and product names. Make sure the error handling mechanism works as expected.\n"
   ]
  },
  {
   "cell_type": "code",
   "execution_count": 114,
   "id": "19086576-0e83-47b7-beeb-37bfd838ced2",
   "metadata": {
    "editable": true,
    "slideshow": {
     "slide_type": ""
    },
    "tags": []
   },
   "outputs": [],
   "source": [
    "\n",
    "\n",
    "products = [\"t-shirt\", \"mug\", \"hat\", \"book\", \"keychain\"]\n"
   ]
  },
  {
   "cell_type": "code",
   "execution_count": 116,
   "id": "83d301a4-c4f9-4d36-92bf-fd8dc81195da",
   "metadata": {
    "editable": true,
    "slideshow": {
     "slide_type": ""
    },
    "tags": []
   },
   "outputs": [],
   "source": [
    "# Step 1: Define the function for initializing the inventory with error handling\n",
    "\n",
    "def initialize_inventory(products):\n",
    "    inventory = {}\n",
    "    for product in products:\n",
    "        valid_quantity = False\n",
    "        while not valid_quantity:\n",
    "            try:\n",
    "                quantity = int(input(f\"Enter the quantity of {product}s available: \"))\n",
    "                if quantity < 0:\n",
    "                    raise ValueError(\"Invalid quantity! Please enter a non-negative value.\")\n",
    "                inventory[product] = quantity\n",
    "                valid_quantity = True\n",
    "            except ValueError as error:\n",
    "                print(f\"Error: {error}\")\n",
    "        \n",
    "    return inventory\n"
   ]
  },
  {
   "cell_type": "code",
   "execution_count": 118,
   "id": "12e31a74-c477-47de-8688-db99e9eb13c9",
   "metadata": {
    "editable": true,
    "slideshow": {
     "slide_type": ""
    },
    "tags": []
   },
   "outputs": [
    {
     "name": "stdout",
     "output_type": "stream",
     "text": [
      "Choose: ['t-shirt', 'mug', 'hat', 'book', 'keychain']\n"
     ]
    },
    {
     "name": "stdin",
     "output_type": "stream",
     "text": [
      "Enter the name of the product:  mugs\n"
     ]
    },
    {
     "name": "stdout",
     "output_type": "stream",
     "text": [
      "mugs is not avaliable.please select from the list\n"
     ]
    },
    {
     "name": "stdin",
     "output_type": "stream",
     "text": [
      "Enter the name of the product:  mug\n",
      "Do you want to add another product? (yes/no) no\n"
     ]
    },
    {
     "name": "stdout",
     "output_type": "stream",
     "text": [
      "Customer ordered products: ['mug']\n"
     ]
    }
   ],
   "source": [
    "#3 get customers order\n",
    "\n",
    "def get_customer_orders(products, inventory):    \n",
    "    customer_orders = []\n",
    "    \n",
    "    print(f\"Choose: {products}\")\n",
    "    \n",
    "    while True:\n",
    "        order = input(\"Enter the name of the product: \")\n",
    "        \n",
    "        if order not in products:\n",
    "            print(f\"{order} is not avaliable.please select from the list\")\n",
    "            continue\n",
    "            \n",
    "        if inventory[order] <=0:\n",
    "            print(f\"sorry, {order} is out of stock\")\n",
    "            continue\n",
    "        customer_orders.append(order)\n",
    "        \n",
    "        answer = input(\"Do you want to add another product? (yes/no)\" ).strip().lower()\n",
    "        if answer == \"no\":\n",
    "            break\n",
    "        elif answer != \"yes\":\n",
    "            print(\"Please enter yes or no\")\n",
    "    \n",
    "    return customer_orders\n",
    "\n",
    "customer_orders = get_customer_orders(products,inventory)\n",
    "print(\"Customer ordered products:\", customer_orders)"
   ]
  },
  {
   "cell_type": "code",
   "execution_count": 120,
   "id": "69e43eb7-0684-4603-a989-b987200886af",
   "metadata": {
    "editable": true,
    "slideshow": {
     "slide_type": ""
    },
    "tags": []
   },
   "outputs": [],
   "source": [
    "# error promting valid number(n.g., a negative value or a non-numeric value)\n",
    "# Use a try-except block to handle the error and continue prompting the user until a valid price is entered.\n",
    "def calculate_total_price (customer_orders):\n",
    "    prices = {}\n",
    "    \n",
    "    for order in customer_orders:\n",
    "        valid_price = False\n",
    "        while not valid_price:\n",
    "            try:\n",
    "                price_input= float(input(f\"Price of {order}: \"))\n",
    "                if price_input < 0:\n",
    "                    raise ValueError(\"Error: Price cannot be negative. Enter a valid price\") \n",
    "                prices[order] = price_input\n",
    "                valid_price = True\n",
    "        \n",
    "            except ValueError as error:\n",
    "                print(f\"Error: {error}. please enter a numeric value for the price\")\n",
    "    \n",
    "    total_price = sum(prices.values())\n",
    "    return total_price"
   ]
  },
  {
   "cell_type": "code",
   "execution_count": 122,
   "id": "4d1728d4-9bec-466f-a803-1a603e4aaac1",
   "metadata": {
    "editable": true,
    "slideshow": {
     "slide_type": ""
    },
    "tags": []
   },
   "outputs": [],
   "source": [
    "def calculate_order_statistics(customer_orders, products):\n",
    "    total_order = len(customer_orders)\n",
    "    percentage_ordered = (total_order / len(products))*100\n",
    "    return total_order, percentage_ordered\n",
    "\n",
    "def print_order_statistics (order_statistics): \n",
    "    total_order, percentage_ordered = order_statistics\n",
    "    print (\"Order Statistics:\")\n",
    "    print (f\"Total products ordered: {total_order}\")\n",
    "    print (f\"Percentage of products ordered: {percentage_ordered:.2f}%\")\n"
   ]
  },
  {
   "cell_type": "code",
   "execution_count": 124,
   "id": "33befbf7-186e-46b5-81c0-521694722e4f",
   "metadata": {
    "editable": true,
    "slideshow": {
     "slide_type": ""
    },
    "tags": []
   },
   "outputs": [],
   "source": [
    "def updated_inventory(customer_orders,inventory):# update using customer_orders \n",
    "    for product in customer_orders:\n",
    "        if product in inventory:\n",
    "            if inventory[product] > 0:\n",
    "                inventory[product] -= 1\n",
    "            else:\n",
    "                print(f\"Sorry, {product} is out of stock.\")\n",
    "        \n",
    "\n",
    "\n",
    "def print_updated_inventory(inventory):\n",
    "    print (\"Updated inventory: \")\n",
    "    for product, quantity in inventory.items():\n",
    "        print(f\"{product}: {quantity}\")\n"
   ]
  },
  {
   "cell_type": "code",
   "execution_count": 126,
   "id": "61aef45b-b2c3-4604-899f-56cdd60f51d1",
   "metadata": {},
   "outputs": [
    {
     "name": "stdin",
     "output_type": "stream",
     "text": [
      "Enter the quantity of t-shirts available:  0\n",
      "Enter the quantity of mugs available:  1\n",
      "Enter the quantity of hats available:  1\n",
      "Enter the quantity of books available:  1\n",
      "Enter the quantity of keychains available:  1\n"
     ]
    },
    {
     "name": "stdout",
     "output_type": "stream",
     "text": [
      "Initial inventory: {'t-shirt': 0, 'mug': 1, 'hat': 1, 'book': 1, 'keychain': 1}\n",
      "Choose: ['t-shirt', 'mug', 'hat', 'book', 'keychain']\n"
     ]
    },
    {
     "name": "stdin",
     "output_type": "stream",
     "text": [
      "Enter the name of the product:  t-shirt\n"
     ]
    },
    {
     "name": "stdout",
     "output_type": "stream",
     "text": [
      "sorry, t-shirt is out of stock\n"
     ]
    },
    {
     "name": "stdin",
     "output_type": "stream",
     "text": [
      "Enter the name of the product:  mug\n",
      "Do you want to add another product? (yes/no) no\n"
     ]
    },
    {
     "name": "stdout",
     "output_type": "stream",
     "text": [
      "Customer ordered products: ['mug']\n"
     ]
    },
    {
     "name": "stdin",
     "output_type": "stream",
     "text": [
      "Price of mug:  -15\n"
     ]
    },
    {
     "name": "stdout",
     "output_type": "stream",
     "text": [
      "Error: Error: Price cannot be negative. Enter a valid price. please enter a numeric value for the price\n"
     ]
    },
    {
     "name": "stdin",
     "output_type": "stream",
     "text": [
      "Price of mug:  15\n"
     ]
    },
    {
     "name": "stdout",
     "output_type": "stream",
     "text": [
      "total price: 15.00\n",
      "Order Statistics:\n",
      "Total products ordered: 1\n",
      "Percentage of products ordered: 20.00%\n",
      "Updated inventory: \n",
      "t-shirt: 0\n",
      "mug: 0\n",
      "hat: 1\n",
      "book: 1\n",
      "keychain: 1\n"
     ]
    }
   ],
   "source": [
    "# Step 1: Initialize inventory\n",
    "inventory = initialize_inventory(products)\n",
    "print(\"Initial inventory:\", inventory)\n",
    "# Step 2: Get customer orders\n",
    "customer_orders = get_customer_orders(products,inventory)\n",
    "print(\"Customer ordered products:\", customer_orders)\n",
    "#total price\n",
    "total_price = calculate_total_price(customer_orders)\n",
    "print(f\"total price: {total_price:.2f}\")\n",
    "# Step 3: Calculate and print order statistics\n",
    "order_statistics = calculate_order_statistics(customer_orders, products)\n",
    "print_order_statistics(order_statistics)\n",
    "\n",
    "# Step 4: Update the inventory based on orders\n",
    "updated_inventory(customer_orders, inventory)\n",
    "\n",
    "# Step 5: Print the updated inventory\n",
    "print_updated_inventory(inventory)"
   ]
  },
  {
   "cell_type": "code",
   "execution_count": null,
   "id": "65a33f9d-e557-4445-8e3a-c14a64bc4bee",
   "metadata": {},
   "outputs": [],
   "source": []
  }
 ],
 "metadata": {
  "kernelspec": {
   "display_name": "Python 3 (ipykernel)",
   "language": "python",
   "name": "python3"
  },
  "language_info": {
   "codemirror_mode": {
    "name": "ipython",
    "version": 3
   },
   "file_extension": ".py",
   "mimetype": "text/x-python",
   "name": "python",
   "nbconvert_exporter": "python",
   "pygments_lexer": "ipython3",
   "version": "3.12.4"
  }
 },
 "nbformat": 4,
 "nbformat_minor": 5
}
